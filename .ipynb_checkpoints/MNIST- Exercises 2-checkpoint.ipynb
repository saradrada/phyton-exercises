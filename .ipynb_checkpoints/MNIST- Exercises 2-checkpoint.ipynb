{
 "cells": [
  {
   "cell_type": "markdown",
   "metadata": {},
   "source": [
    "# MNIST (dígitos) solución tradicional\n",
    "\n",
    "__Integrantes:__\n",
    "\n",
    "+ Nombre: Daniela Llano Lozano\n",
    "+ Nombre: Sara Ortiz Drada\n",
    "\n",
    "__Números asignados:__ 4 y 6\n"
   ]
  },
  {
   "cell_type": "markdown",
   "metadata": {},
   "source": [
    "## Taller \n",
    "\n",
    "_Suponga que trabajan para el desarrollo de un sistema de lectura y reconocimiento de dígitos. Para este trabajo le han proporcionado un conjunto de fotos en grises con el fin que proponga una solución de programación tradicional, es decir, sin el uso de la inteligencia artificial. El software que proponga debe tener la capacidad de determinar con una precisión una muestra de los datos que le han suministrado_\n",
    "\n",
    "Durante la clase se le proporcionaran dos números para trabajar:\n",
    "+ 1 y 5\n",
    "+ 8 y 2\n",
    "+ 9 y 7\n",
    "+ 0 y 3\n",
    "+ 4 y 6\n",
    "\n",
    "**Evaluación del método**\n",
    "\n",
    "Seleccione aleatoriamente una muestra de 30% de los datos, en donde se incluya un balance entre los dígitos asignados (despliéguelo y evidencie las cantidades).\n",
    "\n",
    "Utilice la muestra obtenida y evalué el software (proceso o métodos) que ha propuesto, es decir, a cuantos números acertó (VP) contra los que no acertó (FP), calcule los siguientes datos:\n",
    "\n",
    "```\n",
    "Para el primer número\n",
    "\n",
    "Reales =  número de datos\n",
    "\n",
    "Estimados = cantidad de dígitos estimados correctamente \n",
    "\n",
    "Para el segundo número\n",
    "\n",
    "Reales =  número de datos\n",
    "\n",
    "Estimados = cantidad de dígitos estimados correctamente\n",
    "```\n",
    "_Para todos los números que le corresponden_\n",
    "\n",
    "$ Precision = \\frac{VP}{VP+FP}$\n",
    "\n",
    "\n",
    "Finalmente, despliegue el tiempo que tomo todo el proceso de evaluación."
   ]
  },
  {
   "cell_type": "markdown",
   "metadata": {
    "heading_collapsed": true
   },
   "source": [
    "#### Entregas\n",
    "\n",
    "+ Prepare una presentación donde muestre los resultados\n",
    "+ Envié por un correo electrónico este archivo ipynb con la solución y resultados conseguidos\n"
   ]
  },
  {
   "cell_type": "markdown",
   "metadata": {},
   "source": [
    "#### Paquetes"
   ]
  },
  {
   "cell_type": "code",
   "execution_count": 40,
   "metadata": {},
   "outputs": [],
   "source": [
    "from sklearn.datasets import load_digits\n",
    "import pylab as pl\n",
    "import sklearn"
   ]
  },
  {
   "cell_type": "code",
   "execution_count": 41,
   "metadata": {},
   "outputs": [
    {
     "data": {
      "text/plain": [
       "sklearn.utils.Bunch"
      ]
     },
     "execution_count": 41,
     "metadata": {},
     "output_type": "execute_result"
    }
   ],
   "source": [
    "# cargamos los datos y desplegamos el objeto\n",
    "digits = load_digits()\n",
    "type(digits)"
   ]
  },
  {
   "cell_type": "code",
   "execution_count": 42,
   "metadata": {},
   "outputs": [],
   "source": [
    "# observe las propieades del objeto, ¿a que tipo se le parece?\n",
    "?sklearn.utils.Bunch"
   ]
  },
  {
   "cell_type": "code",
   "execution_count": 46,
   "metadata": {},
   "outputs": [
    {
     "name": "stdout",
     "output_type": "stream",
     "text": [
      "Se tienen en total: 1797 imágenes\n",
      "[[ 0.  0.  7. 15. 13.  1.  0.  0.]\n",
      " [ 0.  8. 13.  6. 15.  4.  0.  0.]\n",
      " [ 0.  2.  1. 13. 13.  0.  0.  0.]\n",
      " [ 0.  0.  2. 15. 11.  1.  0.  0.]\n",
      " [ 0.  0.  0.  1. 12. 12.  1.  0.]\n",
      " [ 0.  0.  0.  0.  1. 10.  8.  0.]\n",
      " [ 0.  0.  8.  4.  5. 14.  9.  0.]\n",
      " [ 0.  0.  7. 13. 13.  9.  0.  0.]]\n"
     ]
    },
    {
     "data": {
      "text/plain": [
       "<Figure size 432x288 with 0 Axes>"
      ]
     },
     "metadata": {},
     "output_type": "display_data"
    },
    {
     "data": {
      "image/png": "[encoded data removed]",
      "text/plain": [
       "<Figure size 288x288 with 1 Axes>"
      ]
     },
     "metadata": {
      "needs_background": "light"
     },
     "output_type": "display_data"
    },
    {
     "data": {
      "image/png": "[encoded data removed]",
      "text/plain": [
       "<Figure size 288x288 with 1 Axes>"
      ]
     },
     "metadata": {
      "needs_background": "light"
     },
     "output_type": "display_data"
    }
   ],
   "source": [
    "pl.gray() # Queremos las imágenes en grises\n",
    "pl.matshow(digits.images[650]) # Imprimir una imagen dada\n",
    "pl.matshow(digits.images[360]) # Imprimir una imagen dada\n",
    "numImagenes = len(digits.images) # Numero de imagenes, len es un método que provee el tamaño del arreglo\n",
    "print(\"Se tienen en total:\", numImagenes, \"imágenes\")\n",
    "print(digits.images[3]) # Ver su representación en pixeles\n"
   ]
  },
  {
   "cell_type": "markdown",
   "metadata": {},
   "source": [
    "Observe cada atributo del objeto digits, recorra cada imagen y obtenga su representación (_target_)"
   ]
  },
  {
   "cell_type": "markdown",
   "metadata": {},
   "source": [
    "# Solución para el número 4 y 6:"
   ]
  },
  {
   "cell_type": "code",
   "execution_count": 56,
   "metadata": {},
   "outputs": [
    {
     "name": "stdout",
     "output_type": "stream",
     "text": [
      "Total de imágenes: 1797\n",
      "Total de cuatros: 181\n",
      "Se acertó a 24 cuatros\n",
      "El porcentaje de aciertos de 4 es de  13.259668508287293 %\n",
      "Total de seis: 181\n",
      "Se acertó 115 seis\n",
      "El porcentaje de aciertos de 6 es de  63.53591160220995 %\n"
     ]
    }
   ],
   "source": [
    "cantidadCuatros = 0\n",
    "cantidadSeis = 0;\n",
    "totalCuatros = 0\n",
    "totalSeis = 0;\n",
    "\n",
    "def clasificacionCuatro(matriz):\n",
    "    intEsCuatro = 23\n",
    "    intSumatoria = 0\n",
    "    matrizPrueba = [[0,0,0,0,1,0,0,0],[0,0,0,1,1,0,0,0],[0,0,1,1,1,1,0,0],[0,0,1,1,0,1,1,0],[0,1,1,1,0,1,0,0],[0,0,1,1,1,1,0,0],[0,0,0,0,1,1,0,0],[0,0,0,0,1,1,0,0]]\n",
    "    totalCuadros = 0\n",
    "    \n",
    "    for i in range(8):\n",
    "        for j in range(8):\n",
    "            if matriz[i][j] > 0:\n",
    "                if matrizPrueba[i][j] == 1:\n",
    "                    intSumatoria = intSumatoria + 1\n",
    "            if (i==7)&(j==2)&(matriz[i][j] > 0):\n",
    "                intSumatoria = intSumatoria - 20\n",
    "            if (i==2)&(j==4)&(matriz[i][j] < 3):\n",
    "                totalCuadros+=1\n",
    "            if (i==3)&(j==4)&(matriz[i][j] < 3):\n",
    "                totalCuadros+=1\n",
    "            if (i==4)&(j==4)&(matriz[i][j] < 3):\n",
    "                totalCuadros+=1\n",
    "            \n",
    "                    \n",
    "    \n",
    "    if totalCuadros == 3:\n",
    "        intSumatoria = intSumatoria - 20\n",
    "    \n",
    "    if intSumatoria == intEsCuatro:\n",
    "        return True\n",
    "    else: \n",
    "        return False\n",
    "      \n",
    "def clasificacionSeis(matriz):\n",
    "    intEsSeis = 14\n",
    "    intSumatoria = 0\n",
    "    matrizPrueba = [[0,0,0,0,1,0,0,0],[0,0,0,1,1,0,0,0],[0,0,0,1,0,0,0,0],[0,0,0,1,0,0,0,0],[0,0,1,1,1,0,0,0],[0,0,1,1,0,1,0,0],[0,0,0,1,0,1,0,0],[0,0,0,0,1,0,0,0]]\n",
    "    totalCuadros = 0\n",
    "    \n",
    "    for i in range(8):\n",
    "        for j in range(8):\n",
    "            if matriz[i][j] > 0:\n",
    "                if matrizPrueba[i][j] == 1:\n",
    "                    intSumatoria = intSumatoria + 1\n",
    "                if (i==2)&(j==5)&(matriz[i][j] > 0):\n",
    "                    intSumatoria = intSumatoria - 20\n",
    "                if (i==0)&(j==6)&(matriz[i][j] > 0):\n",
    "                    intSumatoria = intSumatoria - 20\n",
    "                if (i==1)&(j==6)&(matriz[i][j] > 0):\n",
    "                    intSumatoria = intSumatoria - 20\n",
    "                if (i==6)&(j==7)&(matriz[i][j] > 0):\n",
    "                    intSumatoria = intSumatoria - 20\n",
    "                if (i==7)&(j==7)&(matriz[i][j] > 0):\n",
    "                    intSumatoria = intSumatoria - 20\n",
    "                \n",
    "    if intSumatoria == intEsSeis:\n",
    "        return True\n",
    "    else: \n",
    "        return False\n",
    "    \n",
    "\n",
    "i = 0\n",
    "y = 0\n",
    "while i < len(digits.images):\n",
    "    tgt = digits.target[i]\n",
    "    #print(tgt)\n",
    "    if (tgt==4):\n",
    "        #print(\"CUATRO\"+str(i))\n",
    "        totalCuatros += 1\n",
    "    if (tgt==6):\n",
    "        #print(\"CUATRO\"+str(i))\n",
    "        totalSeis += 1\n",
    "    \n",
    "    if clasificacionCuatro(digits.images[i]) == True:\n",
    "       \n",
    "      # print(\"La matriz numero: \" + str(i) + \" es un cuatro\")\n",
    "       # pl.gray()\n",
    "       # pl.matshow(digits.images[i])\n",
    "        \n",
    "        cantidadCuatros = cantidadCuatros+1\n",
    "    else:\n",
    "        if clasificacionSeis(digits.images[i]) == True:\n",
    "            \n",
    "            #print(\"La matriz numero: \" + str(i) + \" es un seis\")\n",
    "            #pl.gray()\n",
    "            #pl.matshow(digits.images[i])\n",
    "            \n",
    "            cantidadSeis = cantidadSeis+1\n",
    "    \n",
    "    i = i + 1\n",
    "\n",
    "print(\"Total de imágenes: \"+str(i))\n",
    "print(\"Total de cuatros: \"+str(totalCuatros))\n",
    "print(\"Se acertó a \"+str(cantidadCuatros)+ \" cuatros\")\n",
    "print(\"El porcentaje de aciertos de 4 es de \",(cantidadCuatros/totalCuatros)*100,\"%\")\n",
    "print(\"Total de seis: \"+str(totalSeis))\n",
    "print(\"Se acertó \"+str(cantidadSeis)+\" seis\")\n",
    "print(\"El porcentaje de aciertos de 6 es de \",(cantidadSeis/totalSeis)*100,\"%\")"
   ]
  }
 ],
 "metadata": {
  "kernelspec": {
   "display_name": "Python 3",
   "language": "python",
   "name": "python3"
  },
  "language_info": {
   "codemirror_mode": {
    "name": "ipython",
    "version": 3
   },
   "file_extension": ".py",
   "mimetype": "text/x-python",
   "name": "python",
   "nbconvert_exporter": "python",
   "pygments_lexer": "ipython3",
   "version": "3.7.3"
  }
 },
 "nbformat": 4,
 "nbformat_minor": 2
}
